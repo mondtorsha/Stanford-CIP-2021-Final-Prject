{
 "cells": [
  {
   "cell_type": "code",
   "execution_count": 1,
   "metadata": {},
   "outputs": [
    {
     "name": "stdout",
     "output_type": "stream",
     "text": [
      "Requirement already satisfied: opencv-python in c:\\users\\tarun\\anaconda3\\lib\\site-packages (4.5.2.52)\n",
      "Requirement already satisfied: numpy>=1.14.5 in c:\\users\\tarun\\anaconda3\\lib\\site-packages (from opencv-python) (1.18.1)\n"
     ]
    }
   ],
   "source": [
    "!pip install opencv-python"
   ]
  },
  {
   "cell_type": "code",
   "execution_count": 2,
   "metadata": {},
   "outputs": [
    {
     "name": "stdout",
     "output_type": "stream",
     "text": [
      "vehicle: 1\n",
      "vehicle: 2\n",
      "vehicle: 3\n",
      "vehicle: 4\n",
      "vehicle: 5\n",
      "vehicle: 6\n",
      "vehicle: 7\n"
     ]
    }
   ],
   "source": [
    "import cv2\n",
    "import numpy as np\n",
    "\n",
    "min_contour_width=100  \n",
    "min_contour_height=200  \n",
    "offset=10       \n",
    "line_height=550 \n",
    "matches =[]\n",
    "vehicles=0\n",
    "def get_centroid(x, y, w, h):\n",
    "    x1 = int(w / 2)\n",
    "    y1 = int(h / 2)\n",
    "\n",
    "    cx = x + x1\n",
    "    cy = y + y1\n",
    "    return cx,cy\n",
    "    #return (cx, cy)\n",
    "        \n",
    "\n",
    "cap = cv2.VideoCapture('video.mp4')\n",
    "\n",
    "\n",
    "\n",
    "\n",
    "cap.set(3,1920)\n",
    "cap.set(4,1080)\n",
    "\n",
    "if cap.isOpened():\n",
    "    ret,frame1 = cap.read()\n",
    "else:\n",
    "    ret = False\n",
    "ret,frame1 = cap.read()\n",
    "ret,frame2 = cap.read()\n",
    "    \n",
    "while ret:\n",
    "    d = cv2.absdiff(frame1,frame2)\n",
    "    grey = cv2.cvtColor(d,cv2.COLOR_BGR2GRAY)\n",
    "    #blur = cv2.GaussianBlur(grey,(5,5),0)\n",
    "    blur = cv2.GaussianBlur(grey,(5,5),0)\n",
    "    #ret , th = cv2.threshold(blur,20,255,cv2.THRESH_BINARY)\n",
    "    ret , th = cv2.threshold(blur,20,255,cv2.THRESH_BINARY)\n",
    "    dilated = cv2.dilate(th,np.ones((3,3)))\n",
    "    kernel = cv2.getStructuringElement(cv2.MORPH_ELLIPSE, (2, 2))\n",
    "\n",
    "        # Fill any small holes\n",
    "    closing = cv2.morphologyEx(dilated, cv2.MORPH_CLOSE, kernel) \n",
    "    contours,h = cv2.findContours(closing,cv2.RETR_TREE,cv2.CHAIN_APPROX_SIMPLE)\n",
    "    for(i,c) in enumerate(contours):\n",
    "        (x,y,w,h) = cv2.boundingRect(c)\n",
    "        contour_valid = (w >= min_contour_width) and (\n",
    "            h >= min_contour_height)\n",
    "\n",
    "        if not contour_valid:\n",
    "            continue\n",
    "        cv2.rectangle(frame1,(x-10,y-10),(x+w+10,y+h+10),(255,0,0),2)\n",
    "        \n",
    "        cv2.line(frame1, (650, line_height), (1400, line_height), (0,255,0), 2)\n",
    "        centroid = get_centroid(x, y, w, h)\n",
    "        matches.append(centroid)\n",
    "        cv2.circle(frame1,centroid, 5, (0,255,0), 5)\n",
    "        cx,cy= get_centroid(x, y, w, h)\n",
    "        for (x,y) in matches:\n",
    "            if y<(line_height+offset) and y>(line_height-offset):\n",
    "                vehicles=vehicles+1\n",
    "                matches.remove((x,y))\n",
    "                print(\"vehicle:\",vehicles)\n",
    "                \n",
    "    cv2.putText(frame1, \"Total Vehicles Detected: \" + str(vehicles), (50, 150), cv2.FONT_HERSHEY_SIMPLEX, 1,\n",
    "                    (0, 170, 0), 2)\n",
    "\n",
    "    \n",
    "    \n",
    "    \n",
    "    \n",
    "    \n",
    "\n",
    "\n",
    "    cv2.imshow(\"Original\" , frame1)\n",
    "    cv2.imshow(\"Difference\" , th)\n",
    "    # wait key to be pressed\n",
    "    if cv2.waitKey(1) &  0xFF == ord('q'):\n",
    "        break\n",
    "    frame1 = frame2\n",
    "    ret , frame2 = cap.read()\n",
    "#print(matches)    \n",
    "cv2.destroyAllWindows()\n",
    "cap.release()"
   ]
  },
  {
   "cell_type": "code",
   "execution_count": null,
   "metadata": {},
   "outputs": [],
   "source": [
    "# actual 46, detected 42"
   ]
  },
  {
   "cell_type": "code",
   "execution_count": null,
   "metadata": {},
   "outputs": [],
   "source": []
  }
 ],
 "metadata": {
  "kernelspec": {
   "display_name": "Python 3",
   "language": "python",
   "name": "python3"
  },
  "language_info": {
   "codemirror_mode": {
    "name": "ipython",
    "version": 3
   },
   "file_extension": ".py",
   "mimetype": "text/x-python",
   "name": "python",
   "nbconvert_exporter": "python",
   "pygments_lexer": "ipython3",
   "version": "3.7.6"
  }
 },
 "nbformat": 4,
 "nbformat_minor": 4
}
